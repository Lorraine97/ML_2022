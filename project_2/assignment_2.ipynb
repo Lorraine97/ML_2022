{
 "cells": [
  {
   "cell_type": "markdown",
   "id": "ae88c6fa-9c45-4efb-a190-c5e6af3ed126",
   "metadata": {},
   "source": [
    "# CS 7641 Machine Learning - Assignment 2\n",
    "\n",
    "student: Xinru Lu - xlu320 - xlu320@gatech.edu\n",
    "\n",
    "The repository is accessible at: https://github.com/Lorraine97/ML_2022/tree/main/project_2"
   ]
  },
  {
   "cell_type": "markdown",
   "id": "9f12175b-5a4e-4f29-b68f-73a3e5fcec65",
   "metadata": {},
   "source": [
    "# Overview\n",
    "the results you obtained running the algorithms on the networks: why did you get the results you did? what sort of changes might you make to each of those algorithms to improve performance? Include any supporting graphs or tables.\n",
    "a description of your optimization problems, and why you feel that they are interesting and exercise the strengths and weaknesses of each approach.\n",
    "analyses of your results. Beyond answering why you got the results you did you should compare and contrast the different algorithms. How fast were they in terms of wall clock time? Iterations? Which algorithm performed best? How do you define best? Be creative and think of as many questions you can, and as many answers as you can. You know the drill."
   ]
  },
  {
   "cell_type": "markdown",
   "id": "5582b2d1-b45c-4115-99cb-b611fc5b8983",
   "metadata": {},
   "source": [
    "The write-up should contain five parts\n",
    "\n",
    "Part 1:\n",
    "Clustering\n",
    "for each of two data sets:\n",
    "    for each alg in [kmeans, expectation_max]:\n",
    "        choose #clusters in an unsupervised way (no peaking at labels!)\n",
    "        provide artifacts and analysis for why you chose that value (e.g., elbow plot)\n",
    "        validate the results, e.g., using labels\n",
    "        provide artifacts and analysis for your reuslts\n",
    "\n",
    "Part 2:\n",
    "Dimensionality Reduction\n",
    "for each of two data sets:\n",
    "    for each alg in [pca, ica, rp, choose_your_own]:\n",
    "        choose #components in an unsupervised way (no peaking at labels!); exception: choose_your_own, which supervised way is okay if needed\n",
    "        provide artifacts and analysis for why you chose that value, SPECIFICALLY:\n",
    "           {pca: eigenvalues/explained variance,\n",
    "            ica: kurtosis,\n",
    "            rp: reconstruction error (using pseudo-inverse of projection matrix),\n",
    "            choose_your_own: whatever is appropriate}\n",
    "        validate the results, e.g., using labels\n",
    "        provide artifacts and analysis for your reuslts\n",
    "\n",
    "Part 3:\n",
    "Combine Part 1 and Part 2, i.e.,\n",
    "for each of two data sets:\n",
    "    for each alg1 in [kmeans, expectation_max]:\n",
    "        for each alg2 in [pca, ica, rp, choose_your_own]:\n",
    "            do alg1 followed by alg2\n",
    "            analyze results (focusing on the most interesting results)\n",
    "            \n",
    "Part 4:\n",
    "Assignment 1 NN with Dimensionality Reduction\n",
    "For ONE data set:\n",
    "    for each alg in [pca, ica, rp, choose_your_own]:\n",
    "        fit + score your NN on the new (reduced) input features\n",
    "        evaluate (e.g., loss curve, learning curve, wall-clock time)\n",
    "        compare with results from Assignment 1\n",
    "Note: this will require changing the input layer and retuning the network!\n",
    "\n",
    "Part 5:\n",
    "Assignment 1 NN with New Cluster Features\n",
    "For ONE data set:\n",
    "    for each alg in [kmeans, expectation_max]:\n",
    "        same as above, but either ADDING or REPLACING the original, Assignment 1 features with the results of clustering\n",
    "        Suggested: Add, don't replace\n",
    "\n",
    "    If interesting, analyze how/why the results are different/similar from Part 4"
   ]
  }
 ],
 "metadata": {
  "kernelspec": {
   "display_name": "Python 3 (ipykernel)",
   "language": "python",
   "name": "python3"
  },
  "language_info": {
   "codemirror_mode": {
    "name": "ipython",
    "version": 3
   },
   "file_extension": ".py",
   "mimetype": "text/x-python",
   "name": "python",
   "nbconvert_exporter": "python",
   "pygments_lexer": "ipython3",
   "version": "3.10.4"
  }
 },
 "nbformat": 4,
 "nbformat_minor": 5
}
