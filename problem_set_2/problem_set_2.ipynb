{
 "cells": [
  {
   "cell_type": "markdown",
   "id": "aa31895c-8a36-4b22-994f-15d7dc74f031",
   "metadata": {},
   "source": [
    "# CS 7641 Problem Set 2 - Xinru Lu (xlu320)"
   ]
  },
  {
   "cell_type": "markdown",
   "id": "500e80cd-5023-4ada-a219-8f4ee0971dec",
   "metadata": {},
   "source": [
    "### Problem 1. \n",
    "You have to communicate a signal in a language that has 3 symbols A, B and C. The probability of observing A is 50% while that of observing B and C is 25% each. Design an appropriate encoding for this language. What is the entropy of this signal in bits?\n",
    "\n",
    "**ANSWER**: \n",
    "\n",
    "I would do OneHotEncoding since it is categorical values. \\\n",
    "The entropy in bits =\n",
    "$$\n",
    "H = −\\sum_i{p_i \\log_{2}{p_i}} = −(1/4)(−2)−(1/4)(−2)−(1/2)(−1) = 1.5 bits\n",
    "$$"
   ]
  },
  {
   "cell_type": "markdown",
   "id": "049b0603-60c2-427b-b952-2959558996c8",
   "metadata": {},
   "source": [
    "### Problem 2. \n",
    "Show that the K-means procedure can be viewed as a special case of the EM algorithm applied to an appropriate mixture of Gaussian densities model.\n",
    "\n",
    "**ANSWER**:\n",
    "\n",
    "K-means procedure can be viewed as a clustering with a mixture of Gaussians where all variances are equal and mixture weights are equal.\n",
    "\n",
    "k-means procedures:\n",
    "1. Partition the items into K initial clusters.\n",
    "2. Scan through the list of n items, assigning each item to the cluster whose centroid (mean) is closest. Each time an item is reassigned, we recalculate the cluster mean or centroid for the cluster receiving that item and the cluster losing that item.\n",
    "3. Repeat Step 2 over and over again until no more reassignments are made.\n",
    "\n",
    "EM Gaussian mixture procedure:\n",
    "1. Initialize the $\\mu_k$’s, $\\sigma_k$’s and $\\pi_k$’s and evaluate the log-likelihood with these parameters.\n",
    "2. E-step: Evaluate the posterior probabilities \n",
    "3. M-step: Estimate new parameters $\\hat{\\mu_k}$, $\\hat{\\sigma_k}$’s and $\\hat{\\pi_k}$’s with the values from posterior probabilities.\n",
    "4. Evaluate the log-likelihood with the new parameter estimates. If the log-likelihood has changed by less than some small $\\epsilon$, stop. Otherwise, go back to step 2. \n",
    "\n",
    "Here, if the $\\sigma_k$ is the same for all Gaussian distributions here, we are only working with the mean or centroid for the cluster and therefore it can be viewed as the same procedures as k-means."
   ]
  },
  {
   "cell_type": "markdown",
   "id": "883cd806-9600-474f-83d7-3a5c90a68d2b",
   "metadata": {},
   "source": [
    "### Problem 3.\n",
    "\n",
    "Plot the direction of the first and second PCA components in the figures given.\n",
    "\n",
    "**ANSWER**\n",
    "![Solution](https://www.github.com/Lorraine97/ML_2022/blob/main/problem_set_2/3.jpg?raw=true)"
   ]
  },
  {
   "cell_type": "markdown",
   "id": "ee748f88-c369-426f-aa94-71dd5a18ae86",
   "metadata": {},
   "source": [
    "### Problem 4.\n",
    "\n",
    "a. **Hierarchical clustering with single link** or **Hierarchical clustering with complete link** would work well. Due to the gap between the upper cluster and the lower cluster, the points in each cluster would prioritize linking to its closest neighbor than reaching for the ones from the other side. EM and K-means would all fail because the two groups are not clustered by two centers in this case. \n",
    "b. **K-means** would work well. \n",
    "c. **Hierarchical clustering with average link** would work well."
   ]
  },
  {
   "cell_type": "markdown",
   "id": "cf7b0b37-04c8-4f2b-9419-5a2e4ebf11ee",
   "metadata": {},
   "source": [
    "### Problem 8.\n",
    "\n",
    "1. 0, 0\n",
    "2. 1, 2 or 2, 1\n",
    "3. 2, 2"
   ]
  }
 ],
 "metadata": {
  "kernelspec": {
   "display_name": "Python 3 (ipykernel)",
   "language": "python",
   "name": "python3"
  },
  "language_info": {
   "codemirror_mode": {
    "name": "ipython",
    "version": 3
   },
   "file_extension": ".py",
   "mimetype": "text/x-python",
   "name": "python",
   "nbconvert_exporter": "python",
   "pygments_lexer": "ipython3",
   "version": "3.10.6"
  }
 },
 "nbformat": 4,
 "nbformat_minor": 5
}
